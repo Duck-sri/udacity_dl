{
 "cells": [
  {
   "cell_type": "markdown",
   "metadata": {},
   "source": [
    "# Learning Deep Learning"
   ]
  },
  {
   "cell_type": "code",
   "execution_count": 52,
   "metadata": {},
   "outputs": [],
   "source": [
    "import numpy as np\n",
    "import matplotlib.pyplot as plt\n",
    "\n",
    "from numpy.random import default_rng\n",
    "\n",
    "from typing import Iterable,List,Dict,Tuple,Any,Optional"
   ]
  },
  {
   "cell_type": "code",
   "execution_count": 53,
   "metadata": {},
   "outputs": [],
   "source": [
    "rng = default_rng()"
   ]
  },
  {
   "cell_type": "markdown",
   "metadata": {},
   "source": [
    "## One Hot vectors"
   ]
  },
  {
   "cell_type": "code",
   "execution_count": 24,
   "metadata": {},
   "outputs": [],
   "source": [
    "choices = ['ram','sri','duck','ramsay','nan']\n",
    "words1 = [np.random.choice(choices) for _ in range(100)]\n",
    "words2 = [np.random.choice(choices) for _ in range(100)]"
   ]
  },
  {
   "cell_type": "code",
   "execution_count": 17,
   "metadata": {},
   "outputs": [],
   "source": [
    "c_dict = {word:i for i,word in enumerate(choices)}\n",
    "oneHot = np.zeros((len(words),len(choices)))\n",
    "for i,word in enumerate(words):\n",
    "    oneHot[i][c_dict[word]] = 1\n",
    "    \n",
    "# for w,hot in zip(words[:10],oneHot[:10]): print(w,hot)"
   ]
  },
  {
   "cell_type": "code",
   "execution_count": 18,
   "metadata": {},
   "outputs": [
    {
     "data": {
      "text/plain": [
       "array([[0., 1., 0., 0., 0.],\n",
       "       [0., 0., 0., 0., 1.],\n",
       "       [0., 0., 1., 0., 0.],\n",
       "       [1., 0., 0., 0., 0.],\n",
       "       [0., 0., 1., 0., 0.],\n",
       "       [1., 0., 0., 0., 0.],\n",
       "       [0., 1., 0., 0., 0.],\n",
       "       [0., 0., 0., 0., 1.],\n",
       "       [0., 1., 0., 0., 0.],\n",
       "       [0., 0., 0., 1., 0.]])"
      ]
     },
     "execution_count": 18,
     "metadata": {},
     "output_type": "execute_result"
    }
   ],
   "source": [
    "def oneHot(payload:List[Any])->np.ndarray:\n",
    "    choices = list(set(payload))\n",
    "    c_dict = {word:i for i,word in enumerate(choices)}\n",
    "    res = np.zeros((len(words),len(choices)))\n",
    "    for i,word in enumerate(words):\n",
    "        res[i][c_dict[word]] = 1\n",
    "    \n",
    "    return res,choices\n",
    "oneHot(words)[0][:10]"
   ]
  },
  {
   "cell_type": "code",
   "execution_count": 27,
   "metadata": {},
   "outputs": [],
   "source": [
    "a,_ = oneHot(words1)\n",
    "b,_ = oneHot(words2)"
   ]
  },
  {
   "cell_type": "markdown",
   "metadata": {},
   "source": [
    "## MLE - Entropy\n",
    "\n",
    "> **Maximum likelyhood estimation** --> Maximizing the likelyhood for events and their probabilities\n",
    "\n",
    "Eg:\n",
    "\n",
    "probabilities of A = 0.7,0.1,0.6,0.2 = 0.0084\n",
    "probabilities of B = 0.8,0.7,0.9,0.6 = 0.3024\n",
    "\n",
    "we can put that in logs for better calculations, this is called **log likelyhood**\n",
    "$$ log(A) = log(0.7)+log(0.1)+log(0.6)+log(0.2) = -4.8 $$\n",
    "\n",
    "> log(x) for anything less 1 is always negative, so use negative sum\n",
    "\n",
    "> This negative sum of log likelyhood is called **Cross Entropy** or **NLL**\n",
    "$$ crossEntropy(A) = -log(0.7)-log(0.1)-log(0.6)-log(0.2) = 4.8 $$"
   ]
  },
  {
   "cell_type": "markdown",
   "metadata": {},
   "source": [
    "### Cross Entropy loss\n",
    "> Shows how good the mapping between the events and their probabilites are, smaller the NLL better the mapping holds good"
   ]
  },
  {
   "cell_type": "markdown",
   "metadata": {},
   "source": [
    "## Logistic Regression\n",
    "\n",
    "Normally, for K classes \n",
    "NLL (or) CrossEntropy loss = $ -\\sum_{i=0}^{m}\\sum_{j}^{k} log(p_{ij}) $\n",
    "\n",
    "For an one-hot vector style notation\n",
    "\n",
    "$$ Error\\ , J(y,\\hat{y}) = -\\frac{1}{m}\\sum_{i=0}^{m}\\sum_{j}^{k} (y_{ij}log(\\hat{y_{ij}}) + (1-y_{ij})log(1-\\hat{y_{ij}})) $$"
   ]
  },
  {
   "cell_type": "code",
   "execution_count": 19,
   "metadata": {},
   "outputs": [],
   "source": [
    "def NLL(probs): return -1*np.sum(np.log(probs)).item()"
   ]
  },
  {
   "cell_type": "code",
   "execution_count": 20,
   "metadata": {},
   "outputs": [
    {
     "data": {
      "text/plain": [
       "4.779523573132869"
      ]
     },
     "execution_count": 20,
     "metadata": {},
     "output_type": "execute_result"
    }
   ],
   "source": [
    "NLL([0.7,0.1,0.6,.2])"
   ]
  },
  {
   "cell_type": "code",
   "execution_count": 76,
   "metadata": {},
   "outputs": [
    {
     "name": "stderr",
     "output_type": "stream",
     "text": [
      "/var/folders/29/nqyzp9td3xd1rscdchv4kxfc0000gn/T/ipykernel_26211/137015295.py:4: RuntimeWarning: invalid value encountered in log\n",
      "  return (-1*np.sum(np.sum(y*np.nan_to_num(np.log(yHat)) + (1-y)*np.nan_to_num(np.log(1-yHat)),axis=1),axis=0)/y.shape[0]).item()\n"
     ]
    },
    {
     "data": {
      "text/plain": [
       "2.90285083992997"
      ]
     },
     "execution_count": 76,
     "metadata": {},
     "output_type": "execute_result"
    }
   ],
   "source": [
    "def crossEntropyLoss(y,yHat):\n",
    "    assert y.shape == yHat.shape, \"Shapes are not matching\"\n",
    "    assert y.shape[1] > 1, \"Expected One-hot vectors\"\n",
    "    return (-1*np.sum(np.sum(y*np.nan_to_num(np.log(yHat)) + (1-y)*np.nan_to_num(np.log(1-yHat)),axis=1),axis=0)/y.shape[0]).item()\n",
    "\n",
    "a,_ = oneHot(words1)\n",
    "b = np.abs(rng.standard_normal(a.shape))\n",
    "crossEntropyLoss(a,b)"
   ]
  },
  {
   "cell_type": "markdown",
   "metadata": {},
   "source": [
    "## Gradient Descent\n",
    "\n",
    "1. have weights and biases - random\n",
    "2. get yHat, loss\n",
    "3. find derivative of loss w.r.t. W,b\n",
    "4. Update W,b \n",
    "5. Repeat 1-4, until desired loss is reached"
   ]
  },
  {
   "cell_type": "code",
   "execution_count": 82,
   "metadata": {},
   "outputs": [],
   "source": [
    "class LogisticRegression:\n",
    "    def __init__(self,features:int,classes:int,learning_rate:float=0.01):\n",
    "        self.N = features\n",
    "        self.K = classes\n",
    "        \n",
    "        rng = np.random.default_rng()\n",
    "        self.W = rng.standard_normal(self.N,1)\n",
    "        self.b = rng.standard_normal(self.N,1)\n",
    "        \n",
    "        self.loss_fn = crossEntropyLoss\n",
    "        \n",
    "    def to_one_hot(self,y):\n",
    "        # TODO write a onehoter with choices saved\n",
    "        # Use sklearn- onehot encoder\n",
    "        ...\n",
    "    "
   ]
  },
  {
   "cell_type": "code",
   "execution_count": 83,
   "metadata": {},
   "outputs": [],
   "source": [
    "from sklearn.preprocessing import OneHotEncoder"
   ]
  },
  {
   "cell_type": "code",
   "execution_count": null,
   "metadata": {},
   "outputs": [],
   "source": []
  }
 ],
 "metadata": {
  "interpreter": {
   "hash": "48575283cbe1cf9e5af699406e8913db5b4745d0091b40aaa0fe20a143c9b739"
  },
  "kernelspec": {
   "display_name": "Python 3 (ipykernel)",
   "language": "python",
   "name": "python3"
  },
  "language_info": {
   "codemirror_mode": {
    "name": "ipython",
    "version": 3
   },
   "file_extension": ".py",
   "mimetype": "text/x-python",
   "name": "python",
   "nbconvert_exporter": "python",
   "pygments_lexer": "ipython3",
   "version": "3.9.7"
  }
 },
 "nbformat": 4,
 "nbformat_minor": 4
}
